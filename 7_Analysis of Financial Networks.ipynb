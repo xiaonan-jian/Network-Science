{
 "cells": [
  {
   "cell_type": "code",
   "execution_count": 1,
   "id": "8c7b0df5-3575-4d05-9a94-81d66c7f5867",
   "metadata": {},
   "outputs": [],
   "source": [
    "import numpy as np\n",
    "import networkx as nx\n",
    "import matplotlib.pyplot as plt\n",
    "import math"
   ]
  },
  {
   "cell_type": "markdown",
   "id": "34a8fe53",
   "metadata": {},
   "source": [
    "# A07.1 - The Marčenko-Pastur Law"
   ]
  },
  {
   "cell_type": "markdown",
   "id": "225b173b",
   "metadata": {},
   "source": [
    "Load the correlation matrix"
   ]
  },
  {
   "cell_type": "code",
   "execution_count": 2,
   "id": "e2fe80fa",
   "metadata": {},
   "outputs": [],
   "source": [
    "cormat_1h = np.load('cormat_1h.npy')"
   ]
  },
  {
   "cell_type": "code",
   "execution_count": 3,
   "id": "a1a8b38f",
   "metadata": {},
   "outputs": [],
   "source": [
    "cormat_1m = np.load('cormat_1m.npy')"
   ]
  },
  {
   "cell_type": "markdown",
   "id": "f55df2c7",
   "metadata": {},
   "source": [
    "Eigenvalues and eigenvectors"
   ]
  },
  {
   "cell_type": "code",
   "execution_count": 4,
   "id": "8c288dc0",
   "metadata": {},
   "outputs": [
    {
     "name": "stdout",
     "output_type": "stream",
     "text": [
      "eigval_1h:\n",
      "[3.10278357e+01 6.11462818e+00 3.90762710e+00 3.38341207e+00\n",
      " 3.29244496e+00 2.72151599e+00 2.48442167e+00 2.33355883e+00\n",
      " 2.08467102e+00 1.90042517e+00 1.78149180e+00 1.67893845e+00\n",
      " 1.54920798e+00 1.51315768e+00 1.39114035e+00 1.28089150e+00\n",
      " 1.26239606e+00 1.18971931e+00 1.12630673e+00 1.08744639e+00\n",
      " 1.03529794e+00 9.89977946e-01 9.58606917e-01 9.15589513e-01\n",
      " 8.68960156e-01 8.50254263e-01 7.92407534e-01 7.71291141e-01\n",
      " 7.36828468e-01 7.05923023e-01 6.74072270e-01 6.32130296e-01\n",
      " 6.05902486e-01 5.72376717e-01 5.61119174e-01 5.22957580e-01\n",
      " 5.16337739e-01 4.97981478e-01 4.79414479e-01 4.56641482e-01\n",
      " 4.40709127e-01 4.29785965e-01 4.15268348e-01 3.88825844e-01\n",
      " 3.75706258e-01 3.70619833e-01 3.59691965e-01 3.45398785e-01\n",
      " 3.29092969e-01 3.18825500e-01 3.02578385e-01 2.81592137e-01\n",
      " 2.63001216e-01 2.56798749e-01 2.54752222e-01 2.47836340e-01\n",
      " 2.35173856e-01 2.26782708e-01 2.10099146e-01 2.03854554e-01\n",
      " 1.94749478e-01 1.88548786e-01 1.82338210e-01 1.75505136e-01\n",
      " 1.69073210e-01 1.59023369e-01 1.58493466e-02 1.96892329e-02\n",
      " 1.50194843e-01 2.57622802e-02 2.91972826e-02 1.41842409e-01\n",
      " 3.21677301e-02 3.68957940e-02 1.33392731e-01 1.31907427e-01\n",
      " 1.27707895e-01 4.16456926e-02 4.55070230e-02 4.91642964e-02\n",
      " 1.19832467e-01 5.50918821e-02 5.76119043e-02 1.14281071e-01\n",
      " 6.13943451e-02 6.36282229e-02 1.08972701e-01 1.04209380e-01\n",
      " 6.95028245e-02 9.80392019e-02 7.55995438e-02 9.19443558e-02\n",
      " 8.88018408e-02 7.86567981e-02 8.55085014e-02 8.16224969e-02\n",
      " 8.34387978e-02]\n",
      "eigvec_1h:\n",
      "[[ 0.06427784  0.05177606 -0.17503667 ...  0.02522387 -0.04220006\n",
      "  -0.02475628]\n",
      " [ 0.09458947  0.01353362  0.00407004 ... -0.03215896 -0.03628222\n",
      "  -0.01147265]\n",
      " [ 0.1079792   0.05703387  0.07890501 ... -0.01414166  0.07073366\n",
      "  -0.05327893]\n",
      " ...\n",
      " [ 0.0948466  -0.09853794  0.10654993 ...  0.19509721  0.07444659\n",
      "  -0.0057442 ]\n",
      " [ 0.07754473 -0.09253682  0.28288815 ...  0.00876159  0.02987095\n",
      "   0.14000302]\n",
      " [ 0.1137606  -0.24491768 -0.03439756 ...  0.24145998 -0.07153489\n",
      "  -0.07339507]]\n"
     ]
    }
   ],
   "source": [
    "eigval_1h, eigvec_1h = np.linalg.eig(cormat_1h)\n",
    "print(\"eigval_1h:\")\n",
    "print(eigval_1h)\n",
    "print(\"eigvec_1h:\")\n",
    "print(eigvec_1h)"
   ]
  },
  {
   "cell_type": "code",
   "execution_count": 5,
   "id": "9c789ffa",
   "metadata": {},
   "outputs": [
    {
     "name": "stdout",
     "output_type": "stream",
     "text": [
      "eigval_1m:\n",
      "[30.15967999  3.06441856  2.69300287  2.01853023  1.87088218  1.61804659\n",
      "  1.5286698   1.44483891  1.3705737   1.21522435  1.20763077  1.18148502\n",
      "  1.13456249  1.12095821  1.09757579  1.04829675  1.02094271  0.07619294\n",
      "  0.99073481  0.11351842  0.95252709  0.94956666  0.13593653  0.92901798\n",
      "  0.9060765   0.89551127  0.17642145  0.18275983  0.87128445  0.85969399\n",
      "  0.84981126  0.8242317   0.81074884  0.805316    0.79908457  0.22164492\n",
      "  0.77242311  0.24641848  0.25038788  0.7496294   0.73472574  0.72888706\n",
      "  0.26942891  0.70444103  0.69964766  0.27694144  0.28200079  0.29220966\n",
      "  0.29358174  0.30151474  0.68103054  0.67564233  0.3163477   0.66727062\n",
      "  0.65497874  0.64891423  0.6430286   0.63541305  0.63714127  0.62493966\n",
      "  0.32930381  0.61306728  0.3384005   0.5971473   0.34501027  0.35174528\n",
      "  0.35579498  0.3615253   0.36626357  0.37664014  0.38565092  0.5802699\n",
      "  0.57634413  0.39680543  0.40522573  0.40708333  0.41284013  0.55863149\n",
      "  0.55703092  0.42448627  0.43184792  0.54810024  0.53873119  0.53750456\n",
      "  0.4419446   0.44800767  0.4531241   0.457907    0.46372574  0.5248485\n",
      "  0.52075107  0.51211442  0.50706425  0.47343326  0.49770436  0.49066646\n",
      "  0.48091548]\n",
      "eigvec_1m:\n",
      "[[ 0.08440599  0.03224533  0.05752947 ... -0.11022251 -0.00433312\n",
      "   0.01052783]\n",
      " [ 0.07438679  0.04581911 -0.04279941 ...  0.01848479 -0.18750145\n",
      "  -0.04810375]\n",
      " [ 0.09927998  0.11948835  0.04482772 ... -0.03694999  0.0973778\n",
      "  -0.15442227]\n",
      " ...\n",
      " [ 0.08811589 -0.03596723 -0.15586365 ...  0.22429538  0.1120106\n",
      "  -0.12765276]\n",
      " [ 0.09942243  0.02206971 -0.20573319 ...  0.1014379   0.11955421\n",
      "   0.17712352]\n",
      " [ 0.12468711 -0.21660525  0.01770096 ... -0.11905505 -0.05072319\n",
      "  -0.01208828]]\n"
     ]
    }
   ],
   "source": [
    "eigval_1m, eigvec_1m = np.linalg.eig(cormat_1m)\n",
    "print(\"eigval_1m:\")\n",
    "print(eigval_1m)\n",
    "print(\"eigvec_1m:\")\n",
    "print(eigvec_1m)"
   ]
  },
  {
   "cell_type": "markdown",
   "id": "fcba9e55",
   "metadata": {},
   "source": [
    "the Marčenko-Pastur law with parameter"
   ]
  },
  {
   "cell_type": "code",
   "execution_count": 6,
   "id": "dfdc7699",
   "metadata": {},
   "outputs": [
    {
     "data": {
      "text/plain": [
       "[0,\n",
       " 0,\n",
       " 0,\n",
       " 0,\n",
       " 0,\n",
       " 0,\n",
       " 0,\n",
       " 0,\n",
       " 0.18535652870950728,\n",
       " 0.2564054719581084,\n",
       " 0.2982453956959393,\n",
       " 0.33344248876398064,\n",
       " 0.3778778474416788,\n",
       " 0.39033531028278645,\n",
       " 0.4332306317143325,\n",
       " 0.4733906720131752,\n",
       " 0.48029473463124095,\n",
       " 0.5079680789511642,\n",
       " 0.5329017557522161,\n",
       " 0.5485847773429584,\n",
       " 0.5701525121009278,\n",
       " 0.5894121902135452,\n",
       " 0.6030384424266112,\n",
       " 0.6221272564861294,\n",
       " 0.6433537888788691,\n",
       " 0.652024590883072,\n",
       " 0.6793782055885695,\n",
       " 0.6895518807760105,\n",
       " 0.706339274404235,\n",
       " 0.7215448053737263,\n",
       " 0.7372959832176453,\n",
       " 0.7579886656138352,\n",
       " 0.7707604280555155,\n",
       " 0.7866637877011994,\n",
       " 0.7918410899207838,\n",
       " 0.8084397880594376,\n",
       " 0.8111220258384723,\n",
       " 0.8181504648869128,\n",
       " 0.8245084538257058,\n",
       " 0.8309471675741064,\n",
       " 0.8342939641456472,\n",
       " 0.835897539234057,\n",
       " 0.8369724583999819,\n",
       " 0.8349349220185132,\n",
       " 0.8314213844487743,\n",
       " 0.8295011923437852,\n",
       " 0.8241447724927083,\n",
       " 0.8141346214364145,\n",
       " 0.7974179889335072,\n",
       " 0.7831757928704189,\n",
       " 0.7528419182215476,\n",
       " 0.6933589295965792,\n",
       " 0.6092764360722345,\n",
       " 0.5706448604185876,\n",
       " 0.5562681763642919,\n",
       " 0.5000046647614099,\n",
       " 0.345985643530625,\n",
       " 0.12258389425268104,\n",
       " 0,\n",
       " 0,\n",
       " 0,\n",
       " 0,\n",
       " 0,\n",
       " 0,\n",
       " 0,\n",
       " 0,\n",
       " 0,\n",
       " 0,\n",
       " 0,\n",
       " 0,\n",
       " 0,\n",
       " 0,\n",
       " 0,\n",
       " 0,\n",
       " 0,\n",
       " 0,\n",
       " 0,\n",
       " 0,\n",
       " 0,\n",
       " 0,\n",
       " 0,\n",
       " 0,\n",
       " 0,\n",
       " 0,\n",
       " 0,\n",
       " 0,\n",
       " 0,\n",
       " 0,\n",
       " 0,\n",
       " 0,\n",
       " 0,\n",
       " 0,\n",
       " 0,\n",
       " 0,\n",
       " 0,\n",
       " 0,\n",
       " 0]"
      ]
     },
     "execution_count": 6,
     "metadata": {},
     "output_type": "execute_result"
    }
   ],
   "source": [
    "p_1h_list=[]       \n",
    "𝑄 = 3.6289\n",
    "#sigma=1, so the lamada_min = 1+1/Q-2sqrt(1/Q) \n",
    "#lamada_min = 1+1/Q+2sqrt(1/Q)\n",
    "#p(lamada)=(Q/2pi)*sqrt((lamada_max-lamada)(lamada-lamada_min))/lamada\n",
    "lamada_1h_min= 1+1/Q-2*(1/Q)**(0.5)\n",
    "lamada_1h_max= 1+1/Q+2*(1/Q)**(0.5)\n",
    "\n",
    "for i in range(len(eigval_1h)): \n",
    "    if lamada_1h_min<= eigval_1h[i]<= lamada_1h_max:\n",
    "        p_1h = Q*((lamada_1h_max-eigval_1h[i])*(eigval_1h[i]-lamada_1h_min))**(0.5)/(2*math.pi*eigval_1h[i]) \n",
    "    else:\n",
    "        p_1h = 0\n",
    "    p_1h_list.append(p_1h)\n",
    "p_1h_list"
   ]
  },
  {
   "cell_type": "code",
   "execution_count": 7,
   "id": "8fffa1e9",
   "metadata": {},
   "outputs": [
    {
     "data": {
      "text/plain": [
       "[0,\n",
       " 0,\n",
       " 0,\n",
       " 0,\n",
       " 0,\n",
       " 0,\n",
       " 0,\n",
       " 0,\n",
       " 0,\n",
       " 0,\n",
       " 0,\n",
       " 0,\n",
       " 29.319389987148103,\n",
       " 29.62003848705342,\n",
       " 30.141774838753204,\n",
       " 31.262964172588433,\n",
       " 31.898576940370344,\n",
       " 0,\n",
       " 32.611988017673504,\n",
       " 0,\n",
       " 33.53214971526192,\n",
       " 33.604293018346034,\n",
       " 0,\n",
       " 34.10844704823246,\n",
       " 34.678368390150226,\n",
       " 34.943347886589066,\n",
       " 0,\n",
       " 0,\n",
       " 35.55693937907951,\n",
       " 0,\n",
       " 0,\n",
       " 0,\n",
       " 0,\n",
       " 0,\n",
       " 0,\n",
       " 0,\n",
       " 0,\n",
       " 0,\n",
       " 0,\n",
       " 0,\n",
       " 0,\n",
       " 0,\n",
       " 0,\n",
       " 0,\n",
       " 0,\n",
       " 0,\n",
       " 0,\n",
       " 0,\n",
       " 0,\n",
       " 0,\n",
       " 0,\n",
       " 0,\n",
       " 0,\n",
       " 0,\n",
       " 0,\n",
       " 0,\n",
       " 0,\n",
       " 0,\n",
       " 0,\n",
       " 0,\n",
       " 0,\n",
       " 0,\n",
       " 0,\n",
       " 0,\n",
       " 0,\n",
       " 0,\n",
       " 0,\n",
       " 0,\n",
       " 0,\n",
       " 0,\n",
       " 0,\n",
       " 0,\n",
       " 0,\n",
       " 0,\n",
       " 0,\n",
       " 0,\n",
       " 0,\n",
       " 0,\n",
       " 0,\n",
       " 0,\n",
       " 0,\n",
       " 0,\n",
       " 0,\n",
       " 0,\n",
       " 0,\n",
       " 0,\n",
       " 0,\n",
       " 0,\n",
       " 0,\n",
       " 0,\n",
       " 0,\n",
       " 0,\n",
       " 0,\n",
       " 0,\n",
       " 0,\n",
       " 0,\n",
       " 0]"
      ]
     },
     "execution_count": 7,
     "metadata": {},
     "output_type": "execute_result"
    }
   ],
   "source": [
    "p_1m_list=[]       \n",
    "𝑄 = 200.8969\n",
    "\n",
    "#sigma=1, so the lamada_min = 1+1/Q-2sqrt(1/Q) \n",
    "#lamada_min = 1+1/Q+2sqrt(1/Q)\n",
    "#p(lamada)=(Q/2pi)*sqrt((lamada_max-lamada)(lamada-lamada_min))/lamada\n",
    "lamada_1m_min= 1+1/Q-2*(1/Q)**(0.5)\n",
    "lamada_1m_max= 1+1/Q+2*(1/Q)**(0.5)\n",
    "\n",
    "for i in range(len(eigval_1m)): \n",
    "    if lamada_1m_min<= eigval_1m[i]<= lamada_1m_max:\n",
    "        p_1m = Q*((lamada_1h_max-eigval_1m[i])*(eigval_1m[i]-lamada_1h_min))**(0.5)/(2*math.pi*eigval_1m[i]) \n",
    "    else:\n",
    "        p_1m = 0\n",
    "    p_1m_list.append(p_1m)\n",
    "p_1m_list"
   ]
  },
  {
   "cell_type": "markdown",
   "id": "232c6862",
   "metadata": {},
   "source": [
    "plot the histogram of eigenvalues and superimpose the Marčenko-Pastur law with parameter\n"
   ]
  },
  {
   "cell_type": "code",
   "execution_count": 8,
   "id": "98b761a1",
   "metadata": {},
   "outputs": [
    {
     "data": {
      "image/png": "[encoded data removed]",
      "text/plain": [
       "<Figure size 432x288 with 1 Axes>"
      ]
     },
     "metadata": {
      "needs_background": "light"
     },
     "output_type": "display_data"
    }
   ],
   "source": [
    "plt.hist(eigval_1h,bins=31,density = True)\n",
    "plt.plot(eigval_1h,p_1h_list)\n",
    "plt.xlabel('1 hour eigenvalues')\n",
    "plt.show()"
   ]
  },
  {
   "cell_type": "code",
   "execution_count": 9,
   "id": "962a4bc9",
   "metadata": {},
   "outputs": [
    {
     "data": {
      "image/png": "[encoded data removed]",
      "text/plain": [
       "<Figure size 432x288 with 1 Axes>"
      ]
     },
     "metadata": {
      "needs_background": "light"
     },
     "output_type": "display_data"
    }
   ],
   "source": [
    "plt.hist(eigval_1m,bins=31,density = True)\n",
    "plt.plot(eigval_1m,p_1m_list)\n",
    "plt.xlabel('1 minute eigenvalues')\n",
    "plt.show()"
   ]
  },
  {
   "cell_type": "markdown",
   "id": "e14636e5",
   "metadata": {},
   "source": [
    "compute the denoised correlations"
   ]
  },
  {
   "cell_type": "code",
   "execution_count": 10,
   "id": "6262cbac",
   "metadata": {},
   "outputs": [],
   "source": [
    "dh=np.diag(eigval_1h)\n",
    "dm=np.diag(eigval_1m)"
   ]
  },
  {
   "cell_type": "code",
   "execution_count": 11,
   "id": "bcf8eae9",
   "metadata": {},
   "outputs": [],
   "source": [
    "Th = np.linalg.pinv(eigvec_1h)\n",
    "Tm = np.linalg.pinv(eigvec_1m)"
   ]
  },
  {
   "cell_type": "code",
   "execution_count": 12,
   "id": "cc7a4654",
   "metadata": {},
   "outputs": [
    {
     "data": {
      "text/plain": [
       "array([[ 1.        ,  0.16724079,  0.17792163, ...,  0.0185428 ,\n",
       "        -0.04161977,  0.157766  ],\n",
       "       [ 0.16724079,  1.        ,  0.46343185, ...,  0.28985369,\n",
       "         0.20418909,  0.29171091],\n",
       "       [ 0.17792163,  0.46343185,  1.        , ...,  0.39057488,\n",
       "         0.24218336,  0.24357246],\n",
       "       ...,\n",
       "       [ 0.0185428 ,  0.28985369,  0.39057488, ...,  1.        ,\n",
       "         0.42720044,  0.44063307],\n",
       "       [-0.04161977,  0.20418909,  0.24218336, ...,  0.42720044,\n",
       "         1.        ,  0.41781517],\n",
       "       [ 0.157766  ,  0.29171091,  0.24357246, ...,  0.44063307,\n",
       "         0.41781517,  1.        ]])"
      ]
     },
     "execution_count": 12,
     "metadata": {},
     "output_type": "execute_result"
    }
   ],
   "source": [
    "Ch = np.dot(np.dot(eigvec_1h,dh),Th)\n",
    "Ch"
   ]
  },
  {
   "cell_type": "code",
   "execution_count": 13,
   "id": "b98d1fd6",
   "metadata": {},
   "outputs": [
    {
     "data": {
      "text/plain": [
       "array([1., 1., 1., 1., 1., 1., 1., 1., 1., 1., 1., 1., 1., 1., 1., 1., 1.,\n",
       "       1., 1., 1., 1., 1., 1., 1., 1., 1., 1., 1., 1., 1., 1., 1., 1., 1.,\n",
       "       1., 1., 1., 1., 1., 1., 1., 1., 1., 1., 1., 1., 1., 1., 1., 1., 1.,\n",
       "       1., 1., 1., 1., 1., 1., 1., 1., 1., 1., 1., 1., 1., 1., 1., 1., 1.,\n",
       "       1., 1., 1., 1., 1., 1., 1., 1., 1., 1., 1., 1., 1., 1., 1., 1., 1.,\n",
       "       1., 1., 1., 1., 1., 1., 1., 1., 1., 1., 1., 1.])"
      ]
     },
     "execution_count": 13,
     "metadata": {},
     "output_type": "execute_result"
    }
   ],
   "source": [
    "np.diagonal(Ch)"
   ]
  },
  {
   "cell_type": "code",
   "execution_count": 14,
   "id": "0874f351",
   "metadata": {},
   "outputs": [
    {
     "data": {
      "text/plain": [
       "array([[1.        , 0.16174328, 0.29933708, ..., 0.21205377, 0.26330366,\n",
       "        0.28766365],\n",
       "       [0.16174328, 1.        , 0.2303112 , ..., 0.18402302, 0.23935938,\n",
       "        0.35348702],\n",
       "       [0.29933708, 0.2303112 , 1.        , ..., 0.2000015 , 0.27890206,\n",
       "        0.29681243],\n",
       "       ...,\n",
       "       [0.21205377, 0.18402302, 0.2000015 , ..., 1.        , 0.30616488,\n",
       "        0.32896516],\n",
       "       [0.26330366, 0.23935938, 0.27890206, ..., 0.30616488, 1.        ,\n",
       "        0.35136225],\n",
       "       [0.28766365, 0.35348702, 0.29681243, ..., 0.32896516, 0.35136225,\n",
       "        1.        ]])"
      ]
     },
     "execution_count": 14,
     "metadata": {},
     "output_type": "execute_result"
    }
   ],
   "source": [
    "Cm = np.dot(np.dot(eigvec_1m,dm),Tm)\n",
    "Cm"
   ]
  },
  {
   "cell_type": "code",
   "execution_count": 15,
   "id": "adcc9fa5",
   "metadata": {},
   "outputs": [
    {
     "data": {
      "text/plain": [
       "array([1., 1., 1., 1., 1., 1., 1., 1., 1., 1., 1., 1., 1., 1., 1., 1., 1.,\n",
       "       1., 1., 1., 1., 1., 1., 1., 1., 1., 1., 1., 1., 1., 1., 1., 1., 1.,\n",
       "       1., 1., 1., 1., 1., 1., 1., 1., 1., 1., 1., 1., 1., 1., 1., 1., 1.,\n",
       "       1., 1., 1., 1., 1., 1., 1., 1., 1., 1., 1., 1., 1., 1., 1., 1., 1.,\n",
       "       1., 1., 1., 1., 1., 1., 1., 1., 1., 1., 1., 1., 1., 1., 1., 1., 1.,\n",
       "       1., 1., 1., 1., 1., 1., 1., 1., 1., 1., 1., 1.])"
      ]
     },
     "execution_count": 15,
     "metadata": {},
     "output_type": "execute_result"
    }
   ],
   "source": [
    "np.diagonal(Cm)"
   ]
  },
  {
   "cell_type": "markdown",
   "id": "0ff7db4b-1e84-44ad-9743-d190043ce816",
   "metadata": {},
   "source": [
    "# A07.2  - Correlation MSTs"
   ]
  },
  {
   "cell_type": "code",
   "execution_count": 16,
   "id": "6bed6cff-bb1e-429f-9a53-707379ba2b19",
   "metadata": {},
   "outputs": [],
   "source": [
    "Ch=np.around(Ch, decimals=8)"
   ]
  },
  {
   "cell_type": "code",
   "execution_count": 17,
   "id": "b04cb936-c4d5-47f6-9775-c0aeb9e02f95",
   "metadata": {},
   "outputs": [],
   "source": [
    "Cm=np.around(Cm, decimals=8)"
   ]
  },
  {
   "cell_type": "markdown",
   "id": "baf469ce-7426-46f9-87d2-d076bebf4bcf",
   "metadata": {},
   "source": [
    "make a scatterplot of the 1 hour vs 1 minute denoised correlations"
   ]
  },
  {
   "cell_type": "code",
   "execution_count": 18,
   "id": "f27b90de-9e34-4003-b3ee-e8ff32837976",
   "metadata": {
    "tags": []
   },
   "outputs": [
    {
     "data": {
      "image/png": "[encoded data removed]",
      "text/plain": [
       "<Figure size 432x288 with 1 Axes>"
      ]
     },
     "metadata": {
      "needs_background": "light"
     },
     "output_type": "display_data"
    }
   ],
   "source": [
    "for i in range(97):\n",
    "    for j in range(97):\n",
    "        plt.scatter(Ch[i][j],Cm[i][j],c='r')\n",
    "plt.title('1 hour vs 1 minute denoised correlations')\n",
    "plt.xlabel('1 hour denoised correlations')\n",
    "plt.ylabel('1 minute denoised correlations')\n",
    "plt.show()"
   ]
  },
  {
   "cell_type": "markdown",
   "id": "69bd6d45-9e23-410b-8c07-bc54acdb97c2",
   "metadata": {},
   "source": [
    "build the Minimum Spanning Tree"
   ]
  },
  {
   "cell_type": "code",
   "execution_count": 19,
   "id": "3a408dfc-cf95-4058-ad03-a539aa772472",
   "metadata": {},
   "outputs": [],
   "source": [
    "# compute dij=sqrt(2*(1-rij)) of 1 hour\n",
    "Rh=np.zeros((97,97))\n",
    "for i in range(97):\n",
    "    for j in range(97):\n",
    "        Rh[i][j]=np.sqrt(2*(1-Ch[i][j]))"
   ]
  },
  {
   "cell_type": "code",
   "execution_count": 20,
   "id": "61d1eb2c-e5a5-43a4-b234-448ca5ffaf88",
   "metadata": {},
   "outputs": [],
   "source": [
    "g1=nx.Graph()\n",
    "N=97\n",
    "for i in range(N):\n",
    "    g1.add_node(i)\n",
    "for i in range(N-1):\n",
    "    for j in range(i+1,N):\n",
    "        g1.add_edge(i,j,weight=Rh[i][j])"
   ]
  },
  {
   "cell_type": "code",
   "execution_count": 21,
   "id": "244653af-5fc4-41a8-b8e8-9cf27b1e5d86",
   "metadata": {},
   "outputs": [],
   "source": [
    "gh=nx.minimum_spanning_tree(g1)"
   ]
  },
  {
   "cell_type": "code",
   "execution_count": 22,
   "id": "ff286397-2a4f-4d5e-bf88-56cb505c88eb",
   "metadata": {},
   "outputs": [
    {
     "data": {
      "image/png": "[encoded data removed]",
      "text/plain": [
       "<Figure size 432x288 with 1 Axes>"
      ]
     },
     "metadata": {},
     "output_type": "display_data"
    }
   ],
   "source": [
    "nx.draw(gh,with_labels = True)\n",
    "plt.show()"
   ]
  },
  {
   "cell_type": "code",
   "execution_count": 23,
   "id": "3e8d8916-4c94-4000-addf-dc35819aab67",
   "metadata": {},
   "outputs": [],
   "source": [
    "# compute dij=sqrt(2*(1-rij)) of 1 minute\n",
    "Rm=np.zeros((97,97))\n",
    "for i in range(97):\n",
    "    for j in range(97):\n",
    "        Rm[i][j]=np.sqrt(2*(1-Cm[i][j]))"
   ]
  },
  {
   "cell_type": "code",
   "execution_count": 24,
   "id": "fb597f1b-e92f-4a98-8a31-1fdf4df59cf8",
   "metadata": {},
   "outputs": [],
   "source": [
    "g2=nx.Graph()\n",
    "N=97\n",
    "for i in range(N):\n",
    "    g2.add_node(i)\n",
    "for i in range(N-1):\n",
    "    for j in range(i+1,N):\n",
    "        g2.add_edge(i,j,weight=Rm[i][j])"
   ]
  },
  {
   "cell_type": "code",
   "execution_count": 25,
   "id": "95ae53b3-dfdb-4825-91f2-d6893871703d",
   "metadata": {},
   "outputs": [],
   "source": [
    "gm=nx.minimum_spanning_tree(g2)"
   ]
  },
  {
   "cell_type": "code",
   "execution_count": 26,
   "id": "bf27cc52-d68b-45e4-83b3-ee3c67f897cd",
   "metadata": {},
   "outputs": [
    {
     "data": {
      "image/png": "[encoded data removed]",
      "text/plain": [
       "<Figure size 432x288 with 1 Axes>"
      ]
     },
     "metadata": {},
     "output_type": "display_data"
    }
   ],
   "source": [
    "nx.draw(gm,with_labels = True)\n",
    "plt.show()"
   ]
  },
  {
   "cell_type": "markdown",
   "id": "21633976-5d69-4a23-9d3d-e762284452e1",
   "metadata": {},
   "source": [
    "assign the correct ticker (’AAPL’, ’AMZN’, …) as an attribute to the nodes"
   ]
  },
  {
   "cell_type": "code",
   "execution_count": 27,
   "id": "ff0f3f0c-45bd-4745-8444-82d0ea3440dd",
   "metadata": {},
   "outputs": [],
   "source": [
    "with open(\"stocknames.txt\",\"r\") as text:\n",
    "    nodenames={}\n",
    "    i=0\n",
    "    for userline in text:\n",
    "        userline=str(userline).replace('\\n','')\n",
    "        nodenames[i]=userline\n",
    "        i+=1"
   ]
  },
  {
   "cell_type": "code",
   "execution_count": 28,
   "id": "8d551011-30c5-43b4-ab09-a1f0a5f34254",
   "metadata": {
    "tags": []
   },
   "outputs": [],
   "source": [
    "nx.set_node_attributes(gh, nodenames, 'ticker')"
   ]
  },
  {
   "cell_type": "code",
   "execution_count": 29,
   "id": "8407837c-d3ae-4d5d-ac2a-762ee7cc3bf5",
   "metadata": {},
   "outputs": [],
   "source": [
    "nx.set_node_attributes(gm, nodenames, 'ticker')"
   ]
  },
  {
   "cell_type": "code",
   "execution_count": 30,
   "id": "3ab0623f-5a5c-473c-84aa-c9f9eb04ae14",
   "metadata": {
    "tags": []
   },
   "outputs": [],
   "source": [
    "# calculate the degree\n",
    "gh_degree=[]\n",
    "for i in range(97):\n",
    "    if gh.nodes[i]['ticker']==nodenames[i]:\n",
    "        gh_degree.append(gh.degree(i))"
   ]
  },
  {
   "cell_type": "code",
   "execution_count": 31,
   "id": "de000f58-6759-4076-85c5-e169364f0906",
   "metadata": {
    "tags": []
   },
   "outputs": [
    {
     "data": {
      "text/plain": [
       "[1,\n",
       " 1,\n",
       " 1,\n",
       " 1,\n",
       " 1,\n",
       " 1,\n",
       " 2,\n",
       " 2,\n",
       " 3,\n",
       " 3,\n",
       " 3,\n",
       " 1,\n",
       " 1,\n",
       " 1,\n",
       " 3,\n",
       " 4,\n",
       " 1,\n",
       " 1,\n",
       " 2,\n",
       " 1,\n",
       " 1,\n",
       " 1,\n",
       " 2,\n",
       " 1,\n",
       " 1,\n",
       " 2,\n",
       " 1,\n",
       " 2,\n",
       " 9,\n",
       " 1,\n",
       " 3,\n",
       " 1,\n",
       " 1,\n",
       " 2,\n",
       " 1,\n",
       " 1,\n",
       " 1,\n",
       " 1,\n",
       " 2,\n",
       " 1,\n",
       " 5,\n",
       " 3,\n",
       " 1,\n",
       " 2,\n",
       " 6,\n",
       " 4,\n",
       " 1,\n",
       " 1,\n",
       " 8,\n",
       " 1,\n",
       " 1,\n",
       " 1,\n",
       " 5,\n",
       " 5,\n",
       " 1,\n",
       " 1,\n",
       " 1,\n",
       " 2,\n",
       " 2,\n",
       " 1,\n",
       " 2,\n",
       " 1,\n",
       " 4,\n",
       " 4,\n",
       " 1,\n",
       " 1,\n",
       " 1,\n",
       " 1,\n",
       " 1,\n",
       " 1,\n",
       " 2,\n",
       " 2,\n",
       " 1,\n",
       " 2,\n",
       " 2,\n",
       " 1,\n",
       " 3,\n",
       " 1,\n",
       " 1,\n",
       " 2,\n",
       " 1,\n",
       " 2,\n",
       " 2,\n",
       " 1,\n",
       " 3,\n",
       " 1,\n",
       " 1,\n",
       " 2,\n",
       " 1,\n",
       " 5,\n",
       " 3,\n",
       " 3,\n",
       " 3,\n",
       " 1,\n",
       " 2,\n",
       " 2,\n",
       " 4]"
      ]
     },
     "execution_count": 31,
     "metadata": {},
     "output_type": "execute_result"
    }
   ],
   "source": [
    "gh_degree"
   ]
  },
  {
   "cell_type": "code",
   "execution_count": 32,
   "id": "775e6e48-91c6-4743-867a-da9644329ae5",
   "metadata": {
    "tags": []
   },
   "outputs": [],
   "source": [
    "gm_degree=[]\n",
    "for i in range(97):\n",
    "    if gm.nodes[i]['ticker']==nodenames[i]:\n",
    "        gm_degree.append(gm.degree(i))"
   ]
  },
  {
   "cell_type": "code",
   "execution_count": 33,
   "id": "64ab0f1d-0ce9-40a1-84bd-0638fc5acdae",
   "metadata": {
    "tags": []
   },
   "outputs": [
    {
     "data": {
      "text/plain": [
       "[1,\n",
       " 1,\n",
       " 1,\n",
       " 1,\n",
       " 2,\n",
       " 1,\n",
       " 3,\n",
       " 1,\n",
       " 1,\n",
       " 1,\n",
       " 1,\n",
       " 2,\n",
       " 1,\n",
       " 1,\n",
       " 1,\n",
       " 1,\n",
       " 3,\n",
       " 2,\n",
       " 1,\n",
       " 1,\n",
       " 2,\n",
       " 5,\n",
       " 6,\n",
       " 1,\n",
       " 1,\n",
       " 1,\n",
       " 2,\n",
       " 3,\n",
       " 5,\n",
       " 1,\n",
       " 1,\n",
       " 1,\n",
       " 1,\n",
       " 10,\n",
       " 1,\n",
       " 1,\n",
       " 3,\n",
       " 1,\n",
       " 1,\n",
       " 1,\n",
       " 5,\n",
       " 1,\n",
       " 1,\n",
       " 1,\n",
       " 2,\n",
       " 1,\n",
       " 1,\n",
       " 1,\n",
       " 26,\n",
       " 1,\n",
       " 2,\n",
       " 2,\n",
       " 3,\n",
       " 6,\n",
       " 1,\n",
       " 1,\n",
       " 1,\n",
       " 1,\n",
       " 2,\n",
       " 1,\n",
       " 1,\n",
       " 2,\n",
       " 3,\n",
       " 1,\n",
       " 2,\n",
       " 1,\n",
       " 4,\n",
       " 1,\n",
       " 1,\n",
       " 1,\n",
       " 2,\n",
       " 1,\n",
       " 1,\n",
       " 1,\n",
       " 2,\n",
       " 1,\n",
       " 2,\n",
       " 1,\n",
       " 2,\n",
       " 1,\n",
       " 1,\n",
       " 2,\n",
       " 2,\n",
       " 1,\n",
       " 2,\n",
       " 1,\n",
       " 1,\n",
       " 2,\n",
       " 1,\n",
       " 2,\n",
       " 1,\n",
       " 2,\n",
       " 1,\n",
       " 1,\n",
       " 1,\n",
       " 3,\n",
       " 2]"
      ]
     },
     "execution_count": 33,
     "metadata": {},
     "output_type": "execute_result"
    }
   ],
   "source": [
    "gm_degree"
   ]
  },
  {
   "cell_type": "markdown",
   "id": "0fb0fb5c-0210-4656-bfb3-f2987f0d0306",
   "metadata": {},
   "source": [
    "make a scatterplot of the 1 hour vs 1 minute MST degrees of stocks"
   ]
  },
  {
   "cell_type": "code",
   "execution_count": 34,
   "id": "ce9425b3-8914-4cdd-acd2-35cf6c6a5ea8",
   "metadata": {},
   "outputs": [
    {
     "data": {
      "text/plain": [
       "Text(0, 0.5, '1 minute degrees')"
      ]
     },
     "execution_count": 34,
     "metadata": {},
     "output_type": "execute_result"
    },
    {
     "data": {
      "image/png": "[encoded data removed]",
      "text/plain": [
       "<Figure size 432x288 with 1 Axes>"
      ]
     },
     "metadata": {
      "needs_background": "light"
     },
     "output_type": "display_data"
    }
   ],
   "source": [
    "plt.scatter(gh_degree,gm_degree,c='b')\n",
    "plt.title('1 hour vs 1 minute MST degrees of stocks')\n",
    "plt.xlabel('1 hour degrees')\n",
    "plt.ylabel('1 minute degrees')"
   ]
  },
  {
   "cell_type": "markdown",
   "id": "954b3ad5-19e5-485a-8c9e-24fb1db8139e",
   "metadata": {},
   "source": [
    "#### 1 hour"
   ]
  },
  {
   "cell_type": "code",
   "execution_count": 35,
   "id": "83c8d965-3b70-4c96-9132-dd85d6cc3fd8",
   "metadata": {},
   "outputs": [
    {
     "data": {
      "text/plain": [
       "31.02783573849151"
      ]
     },
     "execution_count": 35,
     "metadata": {},
     "output_type": "execute_result"
    }
   ],
   "source": [
    "max_eigval_1h=max(eigval_1h)\n",
    "max_eigval_1h"
   ]
  },
  {
   "cell_type": "code",
   "execution_count": 36,
   "id": "77551c49-3200-4daf-895a-39775893c940",
   "metadata": {},
   "outputs": [
    {
     "name": "stdout",
     "output_type": "stream",
     "text": [
      "[0.06427784 0.05177606 0.17503667 0.04800957 0.03253923 0.04458543\n",
      " 0.22864164 0.11513612 0.02421051 0.11008853 0.18934029 0.05758\n",
      " 0.09933395 0.11263309 0.06162104 0.13692269 0.12253673 0.0897672\n",
      " 0.03255522 0.00248668 0.12129205 0.00878026 0.12455922 0.27320234\n",
      " 0.215963   0.20411321 0.04187576 0.00126045 0.1500938  0.02769677\n",
      " 0.05956501 0.12078052 0.08870286 0.23773883 0.13227948 0.19184031\n",
      " 0.05931267 0.06610349 0.08783797 0.03881132 0.15114523 0.11153606\n",
      " 0.08959924 0.09861456 0.05279212 0.12762327 0.10091728 0.02471506\n",
      " 0.00797802 0.06517984 0.14429665 0.13587569 0.09382059 0.18372632\n",
      " 0.09130654 0.02244132 0.04437387 0.05586754 0.12320734 0.17380828\n",
      " 0.05266416 0.09330319 0.19095803 0.00039138 0.03365375 0.10373429\n",
      " 0.02399705 0.0379883  0.06065913 0.04489713 0.02979961 0.09311631\n",
      " 0.02803327 0.05203833 0.12067482 0.05898542 0.01398707 0.0645617\n",
      " 0.00113764 0.00899088 0.0936748  0.07648481 0.05185386 0.1020769\n",
      " 0.02006946 0.04196285 0.04361665 0.11218643 0.02220597 0.08513996\n",
      " 0.08344698 0.06306385 0.01687648 0.02168992 0.02522387 0.04220006\n",
      " 0.02475628]\n",
      "0.27320233782397946\n"
     ]
    }
   ],
   "source": [
    "for i in range(97):\n",
    "    if max_eigval_1h==eigval_1h[i]:\n",
    "        max_eigvec_1h=abs(eigvec_1h[i])\n",
    "        print(max_eigvec_1h)\n",
    "com_max=max(max_eigvec_1h)\n",
    "print(com_max)"
   ]
  },
  {
   "cell_type": "code",
   "execution_count": 37,
   "id": "ed13505b-ec7b-4137-ba31-cabbf7dbf1a8",
   "metadata": {},
   "outputs": [
    {
     "name": "stdout",
     "output_type": "stream",
     "text": [
      "The stock that has the strongest relation with the market is No. 23 , COST\n"
     ]
    }
   ],
   "source": [
    "for i in range(97):\n",
    "    if max_eigvec_1h[i]==com_max:\n",
    "        print(\"The stock that has the strongest relation with the market is No.\",i,\",\",nodenames[i])"
   ]
  },
  {
   "cell_type": "markdown",
   "id": "91dc2527-c9a5-43cc-a41a-a4afd877d5f8",
   "metadata": {},
   "source": [
    "Therefore, the stock that has the strongest relation with the market is 'COST'."
   ]
  },
  {
   "cell_type": "markdown",
   "id": "4b9b4ba3-784b-4724-aa01-6ec076f5e145",
   "metadata": {},
   "source": [
    "#### 1 minute"
   ]
  },
  {
   "cell_type": "code",
   "execution_count": 38,
   "id": "361fb117-2fef-47e1-a901-2fee917816e7",
   "metadata": {},
   "outputs": [
    {
     "data": {
      "text/plain": [
       "30.159679989499114"
      ]
     },
     "execution_count": 38,
     "metadata": {},
     "output_type": "execute_result"
    }
   ],
   "source": [
    "max_eigval_1m=max(eigval_1m)\n",
    "max_eigval_1m"
   ]
  },
  {
   "cell_type": "code",
   "execution_count": 39,
   "id": "4c043a95-b49e-42bd-ae04-d24089e07f1c",
   "metadata": {},
   "outputs": [
    {
     "name": "stdout",
     "output_type": "stream",
     "text": [
      "[0.08440599 0.03224533 0.05752947 0.01397817 0.03773143 0.04945596\n",
      " 0.0211652  0.07212393 0.20099186 0.12656014 0.38852472 0.04317774\n",
      " 0.13759451 0.20342728 0.35141021 0.17765571 0.07567306 0.14469743\n",
      " 0.00902063 0.03161706 0.10486636 0.02092734 0.0685629  0.00573231\n",
      " 0.08640665 0.04109954 0.01755907 0.15177647 0.0295657  0.04173201\n",
      " 0.05083419 0.12646996 0.01221094 0.15311769 0.03758491 0.11631796\n",
      " 0.07648793 0.05142174 0.03854099 0.03552835 0.02994911 0.05004449\n",
      " 0.1288988  0.00404462 0.10652206 0.06782351 0.09587257 0.20814609\n",
      " 0.13977155 0.06169099 0.02258552 0.14631433 0.04773123 0.07280634\n",
      " 0.06247424 0.03466798 0.02842825 0.15764025 0.01990876 0.07507766\n",
      " 0.14661617 0.0934935  0.05455049 0.03653965 0.05323334 0.09817796\n",
      " 0.14038919 0.0822549  0.0299862  0.08638129 0.10134191 0.08151158\n",
      " 0.01358768 0.08726484 0.02017007 0.05970079 0.01649491 0.135088\n",
      " 0.07433338 0.08034343 0.0642983  0.02026187 0.02806714 0.07059397\n",
      " 0.01850415 0.06985335 0.11121436 0.0574191  0.08272169 0.05721171\n",
      " 0.09338681 0.05871278 0.04299749 0.14155705 0.11022251 0.00433312\n",
      " 0.01052783]\n",
      "0.3885247240949223\n"
     ]
    }
   ],
   "source": [
    "for i in range(97):\n",
    "    if max_eigval_1m==eigval_1m[i]:\n",
    "        max_eigvec_1m=abs(eigvec_1m[i])\n",
    "        print(max_eigvec_1m)\n",
    "com_max=max(max_eigvec_1m)\n",
    "print(com_max)"
   ]
  },
  {
   "cell_type": "code",
   "execution_count": 40,
   "id": "1db84dab-0408-40f5-8aa4-742a7de016a2",
   "metadata": {},
   "outputs": [
    {
     "name": "stdout",
     "output_type": "stream",
     "text": [
      "The stock that has the strongest relation with the market is No. 10 , AXP\n"
     ]
    }
   ],
   "source": [
    "for i in range(97):\n",
    "    if max_eigvec_1m[i]==com_max:\n",
    "        print(\"The stock that has the strongest relation with the market is No.\",i,\",\",nodenames[i])"
   ]
  },
  {
   "cell_type": "markdown",
   "id": "ebccbe4e-b25a-431d-89f2-3d0b20ec8397",
   "metadata": {},
   "source": [
    "Therefore, the stock that has the strongest relation with the market is 'AXP'."
   ]
  },
  {
   "cell_type": "markdown",
   "id": "2275adac-26c2-4a1c-b227-2e69b2e959ef",
   "metadata": {},
   "source": [
    "### 3. Which are the 5 stocks with highest degree on the MST?"
   ]
  },
  {
   "cell_type": "markdown",
   "id": "23b1fbba-8ac7-4ee8-aa9e-a21c72144308",
   "metadata": {},
   "source": [
    "#### 1 hour"
   ]
  },
  {
   "cell_type": "markdown",
   "id": "19b94f8f-7df9-494a-89da-5d15b1978756",
   "metadata": {},
   "source": [
    "Stocks No.28,48,44,40,52,53,89 has the highest degree."
   ]
  },
  {
   "cell_type": "code",
   "execution_count": 41,
   "id": "0d7d02b1-6471-4ed6-85da-ae2cd2c97ef3",
   "metadata": {},
   "outputs": [
    {
     "data": {
      "text/plain": [
       "9"
      ]
     },
     "execution_count": 41,
     "metadata": {},
     "output_type": "execute_result"
    }
   ],
   "source": [
    "max(gh_degree)"
   ]
  },
  {
   "cell_type": "code",
   "execution_count": 42,
   "id": "281bd6b2-9a9a-4028-bf84-09d48184efbe",
   "metadata": {},
   "outputs": [
    {
     "name": "stdout",
     "output_type": "stream",
     "text": [
      "The stock whose degree is 9 is No. 28 , DIS\n"
     ]
    }
   ],
   "source": [
    "list9=[]\n",
    "for i in range(97):\n",
    "    if gh_degree[i]==9:\n",
    "        list9.append(i)\n",
    "        print(\"The stock whose degree is 9 is No.\",i,\",\",nodenames[i])"
   ]
  },
  {
   "cell_type": "code",
   "execution_count": 43,
   "id": "cc7313de-b2cb-4e69-bb69-2b79d354f201",
   "metadata": {},
   "outputs": [
    {
     "name": "stdout",
     "output_type": "stream",
     "text": [
      "The stock whose degree is 8 is No. 48 , HON\n"
     ]
    }
   ],
   "source": [
    "list8=[]\n",
    "for i in range(97):\n",
    "    if gh_degree[i]==8:\n",
    "        list8.append(i)\n",
    "        print(\"The stock whose degree is 8 is No.\",i,\",\",nodenames[i])"
   ]
  },
  {
   "cell_type": "code",
   "execution_count": 44,
   "id": "960c57a5-3829-4636-9b4a-2fb3e67f6fb6",
   "metadata": {},
   "outputs": [],
   "source": [
    "list7=[]\n",
    "for i in range(97):\n",
    "    if gh_degree[i]==7:\n",
    "        list7.append(i)\n",
    "        print(\"The stock whose degree is 7 is No.\",i,\",\",nodenames[i])"
   ]
  },
  {
   "cell_type": "code",
   "execution_count": 45,
   "id": "bb8da9b5-54be-45f0-8bbd-0755a2d15714",
   "metadata": {},
   "outputs": [
    {
     "name": "stdout",
     "output_type": "stream",
     "text": [
      "The stock whose degree is 6 is No. 44 , GOOG\n"
     ]
    }
   ],
   "source": [
    "list6=[]\n",
    "for i in range(97):\n",
    "    if gh_degree[i]==6:\n",
    "        list6.append(i)\n",
    "        print(\"The stock whose degree is 6 is No.\",i,\",\",nodenames[i])"
   ]
  },
  {
   "cell_type": "code",
   "execution_count": 46,
   "id": "85b8f95e-efa3-4107-8723-7598ffc70815",
   "metadata": {},
   "outputs": [
    {
     "name": "stdout",
     "output_type": "stream",
     "text": [
      "The stock whose degree is 5 is No. 40 , GD\n",
      "The stock whose degree is 5 is No. 52 , JNJ\n",
      "The stock whose degree is 5 is No. 53 , JPM\n",
      "The stock whose degree is 5 is No. 89 , UNP\n"
     ]
    }
   ],
   "source": [
    "list5=[]\n",
    "for i in range(97):\n",
    "    if gh_degree[i]==5:\n",
    "        list5.append(i)\n",
    "        print(\"The stock whose degree is 5 is No.\",i,\",\",nodenames[i])"
   ]
  },
  {
   "cell_type": "markdown",
   "id": "4920da32-9170-48cd-8a41-e03ed60bbe60",
   "metadata": {},
   "source": [
    "#### 1 minute"
   ]
  },
  {
   "cell_type": "markdown",
   "id": "801e6939-75db-4f00-85fa-5881cacbec06",
   "metadata": {},
   "source": [
    "Stocks No.48,33,22,53,21,28,40 has the highest degree."
   ]
  },
  {
   "cell_type": "code",
   "execution_count": 47,
   "id": "c90770ce-180f-4e59-a1da-329774948a43",
   "metadata": {},
   "outputs": [
    {
     "data": {
      "text/plain": [
       "26"
      ]
     },
     "execution_count": 47,
     "metadata": {},
     "output_type": "execute_result"
    }
   ],
   "source": [
    "max(gm_degree)"
   ]
  },
  {
   "cell_type": "code",
   "execution_count": 48,
   "id": "0356fcbd-20ed-4e86-bd39-2e0475a11500",
   "metadata": {},
   "outputs": [
    {
     "name": "stdout",
     "output_type": "stream",
     "text": [
      "The stock whose degree is 26 is No. 48 , HON\n"
     ]
    }
   ],
   "source": [
    "list26=[]\n",
    "for i in range(97):\n",
    "    if gm_degree[i]==26:\n",
    "        list26.append(i)\n",
    "        gm_degree[i]=0\n",
    "        print(\"The stock whose degree is 26 is No.\",i,\",\",nodenames[i])"
   ]
  },
  {
   "cell_type": "code",
   "execution_count": 49,
   "id": "31e87a8e-1ecb-45d5-8408-7d3a59dd3a06",
   "metadata": {},
   "outputs": [
    {
     "data": {
      "text/plain": [
       "10"
      ]
     },
     "execution_count": 49,
     "metadata": {},
     "output_type": "execute_result"
    }
   ],
   "source": [
    "max(gm_degree)"
   ]
  },
  {
   "cell_type": "code",
   "execution_count": 50,
   "id": "01ce192f-8fbd-4a14-8258-b5df5972a640",
   "metadata": {},
   "outputs": [
    {
     "name": "stdout",
     "output_type": "stream",
     "text": [
      "The stock whose degree is 10 is No. 33 , EMR\n"
     ]
    }
   ],
   "source": [
    "list10=[]\n",
    "for i in range(97):\n",
    "    if gm_degree[i]==10:\n",
    "        list10.append(i)\n",
    "        gm_degree[i]=0\n",
    "        print(\"The stock whose degree is 10 is No.\",i,\",\",nodenames[i])"
   ]
  },
  {
   "cell_type": "code",
   "execution_count": 51,
   "id": "73d96ba0-9682-4018-89e2-c07b1c087e23",
   "metadata": {},
   "outputs": [
    {
     "data": {
      "text/plain": [
       "6"
      ]
     },
     "execution_count": 51,
     "metadata": {},
     "output_type": "execute_result"
    }
   ],
   "source": [
    "max(gm_degree)"
   ]
  },
  {
   "cell_type": "code",
   "execution_count": 52,
   "id": "64c2903a-ff72-41d3-8b6e-34bd361fa23d",
   "metadata": {},
   "outputs": [
    {
     "name": "stdout",
     "output_type": "stream",
     "text": [
      "The stock whose degree is 6 is No. 22 , COP\n",
      "The stock whose degree is 6 is No. 53 , JPM\n"
     ]
    }
   ],
   "source": [
    "list6=[]\n",
    "for i in range(97):\n",
    "    if gm_degree[i]==6:\n",
    "        list6.append(i)\n",
    "        gm_degree[i]=0\n",
    "        print(\"The stock whose degree is 6 is No.\",i,\",\",nodenames[i])"
   ]
  },
  {
   "cell_type": "code",
   "execution_count": 53,
   "id": "73962136-36a5-41ed-972e-68260dbfaa17",
   "metadata": {},
   "outputs": [
    {
     "data": {
      "text/plain": [
       "5"
      ]
     },
     "execution_count": 53,
     "metadata": {},
     "output_type": "execute_result"
    }
   ],
   "source": [
    "max(gm_degree)"
   ]
  },
  {
   "cell_type": "code",
   "execution_count": 54,
   "id": "5178fd77-f1b0-4be0-a4aa-6dfb77b7dc40",
   "metadata": {},
   "outputs": [
    {
     "name": "stdout",
     "output_type": "stream",
     "text": [
      "The stock whose degree is 5 is No. 21 , COF\n",
      "The stock whose degree is 5 is No. 28 , DIS\n",
      "The stock whose degree is 5 is No. 40 , GD\n"
     ]
    }
   ],
   "source": [
    "list5=[]\n",
    "for i in range(97):\n",
    "    if gm_degree[i]==5:\n",
    "        list5.append(i)\n",
    "        gm_degree[i]=0\n",
    "        print(\"The stock whose degree is 5 is No.\",i,\",\",nodenames[i])"
   ]
  }
 ],
 "metadata": {
  "kernelspec": {
   "display_name": "Python 3",
   "language": "python",
   "name": "python3"
  },
  "language_info": {
   "codemirror_mode": {
    "name": "ipython",
    "version": 3
   },
   "file_extension": ".py",
   "mimetype": "text/x-python",
   "name": "python",
   "nbconvert_exporter": "python",
   "pygments_lexer": "ipython3",
   "version": "3.8.8"
  }
 },
 "nbformat": 4,
 "nbformat_minor": 5
}
